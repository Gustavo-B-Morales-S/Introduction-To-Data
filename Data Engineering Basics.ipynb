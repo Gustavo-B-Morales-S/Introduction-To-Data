{
 "cells": [
  {
   "attachments": {},
   "cell_type": "markdown",
   "metadata": {},
   "source": [
    "# **_Data Engineering Basics_**"
   ]
  },
  {
   "attachments": {},
   "cell_type": "markdown",
   "metadata": {},
   "source": [
    "This notebook has a **didactic** purpose, regarding the practical application of a simple **data engineering** process using **postgreSQL** and **Python**."
   ]
  },
  {
   "attachments": {},
   "cell_type": "markdown",
   "metadata": {},
   "source": [
    "## **Table of Contents**\n",
    "\n",
    "1. [Database Connection](#1-Database-Connection)\n",
    "2. [Load Data](#2-Load-Data)\n",
    "3. [Modeling Data](#3-Modeling_Data)\n",
    "4. [Verifiyng Data](#4-Verifiyng_Data)"
   ]
  },
  {
   "attachments": {},
   "cell_type": "markdown",
   "metadata": {},
   "source": [
    "## **Packages used in this notebook**"
   ]
  },
  {
   "cell_type": "code",
   "execution_count": null,
   "metadata": {},
   "outputs": [],
   "source": [
    "# Packages used in this notebook\n",
    "import psycopg2\n",
    "from psycopg2.extensions import cursor, connection\n",
    "import pandas as pd\n",
    "from pandas import DataFrame"
   ]
  },
  {
   "attachments": {},
   "cell_type": "markdown",
   "metadata": {},
   "source": [
    "## **1. Database Connection**"
   ]
  },
  {
   "cell_type": "code",
   "execution_count": null,
   "metadata": {},
   "outputs": [],
   "source": [
    "# Usually stored in environment variables for security and portability reasons\n",
    "db_configs = {\n",
    "    \"user\": \"...\",\n",
    "    \"password\": \"...\",\n",
    "    \"dbname\": \"...\",\n",
    "    \"host\": \"...\"\n",
    "}"
   ]
  },
  {
   "cell_type": "code",
   "execution_count": null,
   "metadata": {},
   "outputs": [],
   "source": [
    "def connect_with_database(**db_config: dict) -> tuple[connection, cursor]:\n",
    "    \"\"\"Connect with PostgreSQL database\n",
    "\n",
    "    :param db_config: Dictionary or key arguments with database configurations\n",
    "    :returns: A tuple with database connection and cursor \n",
    "    \"\"\"\n",
    "\n",
    "    try:\n",
    "        conn = psycopg2.connect(**db_config)\n",
    "        conn.set_session(autocommit=True)\n",
    "        cur = conn.cursor()\n",
    "\n",
    "        return conn, cur\n",
    "\n",
    "    except psycopg2.Error as e:\n",
    "        print(\n",
    "            F\"Could not establish connection to postgres database.\\n{e}\"\n",
    "        )"
   ]
  },
  {
   "cell_type": "code",
   "execution_count": null,
   "metadata": {},
   "outputs": [],
   "source": [
    "# Connecting to the default database\n",
    "conn, cur = connect_with_database(dbname=\"...\", host=\"...\",\n",
    "                                  password=\"...\", user=\"...\")"
   ]
  },
  {
   "cell_type": "code",
   "execution_count": null,
   "metadata": {},
   "outputs": [],
   "source": [
    "# Creating sparkify database with UTF8 enconding\n",
    "cur.execute(\"DROP DATABASE ...\")\n",
    "cur.execute(\"CREATE DATABASE ...\")\n",
    "\n",
    "# Commiting and closing the last connection\n",
    "conn.commit()\n",
    "conn.close()"
   ]
  },
  {
   "cell_type": "code",
   "execution_count": null,
   "metadata": {},
   "outputs": [],
   "source": [
    "# Connecting to the new sparkify database\n",
    "conn, cur = connect_with_database(**db_configs)"
   ]
  },
  {
   "attachments": {},
   "cell_type": "markdown",
   "metadata": {},
   "source": [
    "## **2. Load data** "
   ]
  },
  {
   "cell_type": "code",
   "execution_count": null,
   "metadata": {},
   "outputs": [],
   "source": [
    "accounts_data = pd.read_csv(\"data/Wealth-AccountData.csv\")\n",
    "accounts_data.head(3)"
   ]
  },
  {
   "cell_type": "code",
   "execution_count": null,
   "metadata": {},
   "outputs": [],
   "source": [
    "accounts_country = pd.read_csv(\"data/Wealth-AccountsCountry.csv\")\n",
    "accounts_country.head(3)"
   ]
  },
  {
   "cell_type": "code",
   "execution_count": null,
   "metadata": {},
   "outputs": [],
   "source": [
    "account_series = pd.read_csv(\"data/Wealth-AccountSeries.csv\")\n",
    "account_series.head(3)"
   ]
  },
  {
   "attachments": {},
   "cell_type": "markdown",
   "metadata": {},
   "source": [
    "#### **2.1 Filtering data**"
   ]
  },
  {
   "cell_type": "code",
   "execution_count": null,
   "metadata": {},
   "outputs": [],
   "source": [
    "# Columns that will be filtered from dataframes\n",
    "\n",
    "accounts_data_selected_columns = [\"Country Name\", \"Country Code\", \"Series Name\", \"Series Code\", \n",
    "                                  \"1995 [YR1995]\", \"2000 [YR2000]\", \"2005 [YR2005]\", \"2010 [YR2010]\"]\n",
    "\n",
    "accounts_country_selected_columns = [\"Code\", \"Short Name\", \"Table Name\", \"Long Name\", \"Currency Unit\"]\n",
    "\n",
    "accounts_series_selected_columns = [\"Code\", \"Topic\", \"Indicator Name\", \"Long definition\"]"
   ]
  },
  {
   "cell_type": "code",
   "execution_count": null,
   "metadata": {},
   "outputs": [],
   "source": [
    "accounts_country_filtered_columns = accounts_country.loc[0:12, accounts_country_selected_columns]\n",
    "accounts_country_filtered_columns.head(3)"
   ]
  },
  {
   "cell_type": "code",
   "execution_count": null,
   "metadata": {},
   "outputs": [],
   "source": [
    "accounts_series_filtered_columns = account_series.loc[0:12, accounts_series_selected_columns]\n",
    "accounts_series_filtered_columns.head(3)"
   ]
  },
  {
   "cell_type": "code",
   "execution_count": null,
   "metadata": {},
   "outputs": [],
   "source": [
    "accounts_data_filtered_columns = accounts_data.loc[0:12, accounts_data_selected_columns]\n",
    "accounts_data_filtered_columns.head(3)"
   ]
  },
  {
   "attachments": {},
   "cell_type": "markdown",
   "metadata": {},
   "source": [
    "## **3. Modeling data**"
   ]
  },
  {
   "cell_type": "code",
   "execution_count": null,
   "metadata": {},
   "outputs": [],
   "source": [
    "def create_table(table_name: str, table_columns: str) -> None:\n",
    "    \"\"\"Create a table\n",
    "    \n",
    "    :param table_name: Name of the table to be created\n",
    "    :param table_columns: Column names belonging to this table\n",
    "    \n",
    "    :returns: None\n",
    "    \"\"\"\n",
    "    \n",
    "    cur.execute(F\"\"\"\n",
    "                 CREATE TABLE IF NOT EXISTS {table_name} ({table_columns})\n",
    "                 \"\"\")\n",
    "    \n",
    "    conn.commit()"
   ]
  },
  {
   "cell_type": "code",
   "execution_count": null,
   "metadata": {},
   "outputs": [],
   "source": [
    "accountscountry_columns_with_type_definition = \"\"\"\n",
    "                                               country_code VARCHAR PRIMARY KEY,\n",
    "                                               short_name VARCHAR,\n",
    "                                               table_name VARCHAR,\n",
    "                                               long_name VARCHAR,\n",
    "                                               currency_unit VARCHAR\n",
    "                                               \"\"\""
   ]
  },
  {
   "cell_type": "code",
   "execution_count": null,
   "metadata": {},
   "outputs": [],
   "source": [
    "create_table(table_name=\"accountscountry\",\n",
    "             table_columns=accountscountry_columns_with_type_definition)"
   ]
  },
  {
   "cell_type": "code",
   "execution_count": null,
   "metadata": {},
   "outputs": [],
   "source": [
    "accountsdata_columns_with_type_definition = \"\"\"\n",
    "                                            country_name VARCHAR,\n",
    "                                            country_code VARCHAR,\n",
    "                                            indicator_name VARCHAR,\n",
    "                                            indicator_code VARCHAR,\n",
    "                                            year_1995 numeric,\n",
    "                                            year_2000 numeric,\n",
    "                                            year_2005 numeric,\n",
    "                                            year_2010 numeric\n",
    "                                            \"\"\""
   ]
  },
  {
   "cell_type": "code",
   "execution_count": null,
   "metadata": {},
   "outputs": [],
   "source": [
    "create_table(table_name=\"accountsdata\",\n",
    "             table_columns=accountsdata_columns_with_type_definition)"
   ]
  },
  {
   "cell_type": "code",
   "execution_count": null,
   "metadata": {},
   "outputs": [],
   "source": [
    "accountsseries_columns_with_type_definition = \"\"\"\n",
    "                                              series_code VARCHAR,\n",
    "                                              topic VARCHAR,\n",
    "                                              indicator_name VARCHAR,\n",
    "                                              short_definition VARCHAR\n",
    "                                              \"\"\""
   ]
  },
  {
   "cell_type": "code",
   "execution_count": null,
   "metadata": {},
   "outputs": [],
   "source": [
    "create_table(table_name=\"accountsseries\",\n",
    "             table_columns=accountsseries_columns_with_type_definition)"
   ]
  },
  {
   "attachments": {},
   "cell_type": "markdown",
   "metadata": {},
   "source": [
    "#### **3.1 Inserting data** "
   ]
  },
  {
   "cell_type": "code",
   "execution_count": null,
   "metadata": {},
   "outputs": [],
   "source": [
    "def insert_in_table(table_name: str, columns: str,  df: DataFrame) -> None:\n",
    "    \"\"\"Insert Dataframe data into a table\n",
    "    \n",
    "    :param table_name: Name of the table where the data will be inserted\n",
    "    :param columns: Columns of the table where the data will be inserted\n",
    "    :param df: Dataframe where data will be imported from\n",
    "    \n",
    "    :returns: None\n",
    "    \"\"\"\n",
    "    \n",
    "    for _, row in df.iterrows():\n",
    "        cur.execute(F\"\"\"\n",
    "                     INSERT INTO {table_name} ({columns})\n",
    "                     VALUES {tuple(row)};\n",
    "                     \"\"\")"
   ]
  },
  {
   "cell_type": "code",
   "execution_count": null,
   "metadata": {},
   "outputs": [],
   "source": [
    "accountscountry_columns = accountscountry_columns_with_type_definition.replace(\" VARCHAR\", \"\") \\\n",
    "                                                                      .replace(\" PRIMARY KEY\", \"\")\n",
    "\n",
    "insert_in_table(table_name=\"accountscountry\",\n",
    "                columns=accountscountry_columns,\n",
    "                df=accounts_country_filtered_columns)"
   ]
  },
  {
   "cell_type": "code",
   "execution_count": null,
   "metadata": {},
   "outputs": [],
   "source": [
    "accountsdata_columns = accountsdata_columns_with_type_definition.replace(\" VARCHAR\", \"\") \\\n",
    "                                                                .replace(\" numeric\", \"\")\n",
    "\n",
    "insert_in_table(table_name=\"accountsdata\",\n",
    "                columns=accountsdata_columns,\n",
    "                df=accounts_data_filtered_columns)"
   ]
  },
  {
   "cell_type": "code",
   "execution_count": null,
   "metadata": {},
   "outputs": [],
   "source": [
    "accountsseries_columns = accountsseries_columns_with_type_definition.replace(\" VARCHAR\", \"\")\n",
    "\n",
    "\n",
    "insert_in_table(table_name=\"accountsseries\",\n",
    "                columns=accountsseries_columns,\n",
    "                df=accounts_series_filtered_columns)"
   ]
  },
  {
   "attachments": {},
   "cell_type": "markdown",
   "metadata": {},
   "source": [
    "## **4. Verifiyng data**"
   ]
  },
  {
   "cell_type": "code",
   "execution_count": 36,
   "metadata": {},
   "outputs": [
    {
     "name": "stdout",
     "output_type": "stream",
     "text": [
      "AccountsCountry\n",
      "('ALB', 'Albania', 'Albania', 'Republic of Albania', 'Albanian lek')\n",
      "('ARG', 'Argentina', 'Argentina', 'Argentine Republic', 'Argentine peso')\n",
      "('ARM', 'Armenia', 'Armenia', 'Republic of Armenia', 'Armenian dram')\n",
      "('AUS', 'Australia', 'Australia', 'Commonwealth of Australia', 'Australian dollar')\n",
      "('AUT', 'Austria', 'Austria', 'Republic of Austria', 'Euro')\n",
      "AccountsData\n",
      "('Albania', 'ALB', 'Human capital (constant 2018 US$)', 'NW.HCA.TO', Decimal('44900000000'), Decimal('43600000000'), Decimal('54400000000.0'), Decimal('68100000000.0'))\n",
      "('Albania', 'ALB', 'Human capital per capita (constant 2018 US$)', 'NW.HCA.PC', Decimal('14072.79'), Decimal('14118.13'), Decimal('18072.3'), Decimal('23362.86'))\n",
      "('Albania', 'ALB', 'Human capital per capita, employed female (constant 2018 US$)', 'NW.HCA.FEMP.PC', Decimal('3468.858'), Decimal('3424.007'), Decimal('2222.115'), Decimal('2889.15'))\n",
      "('Albania', 'ALB', 'Human capital per capita, employed male (constant 2018 US$)', 'NW.HCA.MEMP.PC', Decimal('6507.931'), Decimal('6872.019'), Decimal('11689.35'), Decimal('15789.92'))\n",
      "('Albania', 'ALB', 'Human capital per capita, female (constant 2018 US$)', 'NW.HCA.FEMA.PC', Decimal('4893.006'), Decimal('4695.071'), Decimal('2886.736'), Decimal('3613.606'))\n",
      "AccountsSeries\n",
      "('NW.HCA.TO', 'Human capital', 'Human capital (constant 2018 US$)', 'Human capital is computed as the present value of future earnings for the working population over their lifetimes. Values are measured at market exchange rates in constant 2018 US dollars, using a country-specific GDP deflator.')\n",
      "('NW.HCA.PC', 'Human capital', 'Human capital per capita (constant 2018 US$)', 'Human capital is computed as the present value of future earnings for the working population over their lifetimes. Values are measured at market exchange rates in constant 2018 US dollars, using a country-specific GDP deflator.')\n",
      "('NW.HCA.FEMP.PC', 'Human capital', 'Human capital per capita, employed female (constant 2018 US$)', 'Human capital is computed as the present value of future earnings for the working population over their lifetimes. Values are measured at market exchange rates in constant 2018 US dollars, using a country-specific GDP deflator.')\n",
      "('NW.HCA.MEMP.PC', 'Human capital', 'Human capital per capita, employed male (constant 2018 US$)', 'Human capital is computed as the present value of future earnings for the working population over their lifetimes. Values are measured at market exchange rates in constant 2018 US dollars, using a country-specific GDP deflator.')\n",
      "('NW.HCA.FEMA.PC', 'Human capital', 'Human capital per capita, female (constant 2018 US$)', 'Human capital is computed as the present value of future earnings for the working population over their lifetimes. Values are measured at market exchange rates in constant 2018 US dollars, using a country-specific GDP deflator.')\n"
     ]
    }
   ],
   "source": [
    "for table_name in (\"AccountsCountry\", \"AccountsData\", \"AccountsSeries\"):\n",
    "    cur.execute(F\"SELECT * FROM {table_name} LIMIT 5;\")\n",
    "    rows = cur.fetchall()\n",
    "    \n",
    "    print(table_name, *rows, sep=\"\\n\")"
   ]
  },
  {
   "cell_type": "code",
   "execution_count": null,
   "metadata": {},
   "outputs": [],
   "source": []
  }
 ],
 "metadata": {
  "kernelspec": {
   "display_name": "Python 3",
   "language": "python",
   "name": "python3"
  },
  "language_info": {
   "codemirror_mode": {
    "name": "ipython",
    "version": 3
   },
   "file_extension": ".py",
   "mimetype": "text/x-python",
   "name": "python",
   "nbconvert_exporter": "python",
   "pygments_lexer": "ipython3",
   "version": "3.10.10"
  },
  "orig_nbformat": 4
 },
 "nbformat": 4,
 "nbformat_minor": 2
}
